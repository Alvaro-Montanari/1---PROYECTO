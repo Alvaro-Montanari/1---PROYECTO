{
 "cells": [
  {
   "cell_type": "markdown",
   "metadata": {},
   "source": [
    "# Titulo 1\n",
    "a continuación se hace una prueba de texto\n",
    "listo: dddASASAS"
   ]
  },
  {
   "cell_type": "code",
   "execution_count": 179,
   "metadata": {},
   "outputs": [
    {
     "data": {
      "text/plain": [
       "int"
      ]
     },
     "execution_count": 179,
     "metadata": {},
     "output_type": "execute_result"
    }
   ],
   "source": [
    "x=1\n",
    "type (x)\n",
    "\n",
    "\n"
   ]
  },
  {
   "cell_type": "code",
   "execution_count": 180,
   "metadata": {},
   "outputs": [
    {
     "name": "stdout",
     "output_type": "stream",
     "text": [
      "Hola Mundo\n",
      "Hola Mundos\n"
     ]
    }
   ],
   "source": [
    "x= 'Hola Mundo'\n",
    "print (x)\n",
    "x= 'Hola Mundos'\n",
    "print (x)\n"
   ]
  },
  {
   "cell_type": "code",
   "execution_count": 181,
   "metadata": {},
   "outputs": [
    {
     "name": "stdout",
     "output_type": "stream",
     "text": [
      "[1, 2, 3] [1, 2, 3]\n"
     ]
    }
   ],
   "source": [
    "\n",
    "x= [1,2,3]\n",
    "y= x\n",
    "print (x,y)"
   ]
  },
  {
   "cell_type": "code",
   "execution_count": 182,
   "metadata": {},
   "outputs": [
    {
     "name": "stdout",
     "output_type": "stream",
     "text": [
      "[1, 2, 3, 4]\n"
     ]
    }
   ],
   "source": [
    "x.append (4)\n",
    "print (y)"
   ]
  },
  {
   "cell_type": "code",
   "execution_count": 183,
   "metadata": {},
   "outputs": [
    {
     "name": "stdout",
     "output_type": "stream",
     "text": [
      "[1, 2, 3, 4, 'AHORA SI']\n"
     ]
    }
   ],
   "source": [
    "x.insert(4, 'AHORA SI')\n",
    "print (x)"
   ]
  },
  {
   "cell_type": "code",
   "execution_count": 184,
   "metadata": {},
   "outputs": [
    {
     "name": "stdout",
     "output_type": "stream",
     "text": [
      "[1, 2, 3, 4]\n"
     ]
    }
   ],
   "source": [
    "x.remove('AHORA SI')\n",
    "print (x)"
   ]
  },
  {
   "cell_type": "code",
   "execution_count": 185,
   "metadata": {},
   "outputs": [
    {
     "name": "stdout",
     "output_type": "stream",
     "text": [
      "[1, 2, 4]\n"
     ]
    }
   ],
   "source": [
    "x.pop(2)\n",
    "print (x)"
   ]
  },
  {
   "cell_type": "code",
   "execution_count": null,
   "metadata": {},
   "outputs": [],
   "source": []
  },
  {
   "cell_type": "code",
   "execution_count": 186,
   "metadata": {},
   "outputs": [
    {
     "name": "stdout",
     "output_type": "stream",
     "text": [
      "5 [1, 2, 4]\n"
     ]
    }
   ],
   "source": [
    "x =(5)\n",
    "print (x,y)"
   ]
  },
  {
   "cell_type": "code",
   "execution_count": 187,
   "metadata": {},
   "outputs": [
    {
     "name": "stdout",
     "output_type": "stream",
     "text": [
      "PRUEBA DE TEXTO\n"
     ]
    }
   ],
   "source": [
    "TEXTO  = 'PRUEBA DE TEXTO'\n",
    "print (TEXTO)"
   ]
  },
  {
   "cell_type": "code",
   "execution_count": null,
   "metadata": {},
   "outputs": [],
   "source": []
  },
  {
   "cell_type": "markdown",
   "metadata": {},
   "source": []
  },
  {
   "cell_type": "code",
   "execution_count": 188,
   "metadata": {},
   "outputs": [],
   "source": [
    "\n",
    "\n",
    "\n",
    "dato_num = 8\n",
    "dato_float = 10.22\n",
    "dato_booleano_1 = True \n",
    "dato_booleano_2 = False \n",
    "dato_string = 'Soy Xime'\n"
   ]
  },
  {
   "cell_type": "code",
   "execution_count": 189,
   "metadata": {},
   "outputs": [
    {
     "name": "stdout",
     "output_type": "stream",
     "text": [
      "8\n",
      "<class 'int'>\n"
     ]
    }
   ],
   "source": [
    "print(dato_num)\n",
    "print(type(dato_num))"
   ]
  },
  {
   "cell_type": "code",
   "execution_count": 190,
   "metadata": {},
   "outputs": [
    {
     "name": "stdout",
     "output_type": "stream",
     "text": [
      "10.22\n",
      "<class 'float'>\n"
     ]
    }
   ],
   "source": [
    "print(dato_float)\n",
    "print(type(dato_float))"
   ]
  },
  {
   "cell_type": "code",
   "execution_count": 191,
   "metadata": {},
   "outputs": [
    {
     "name": "stdout",
     "output_type": "stream",
     "text": [
      "Los datos son:\n",
      "True False\n",
      "\n",
      "Los tipos de datos son:\n",
      "<class 'bool'> <class 'bool'>\n"
     ]
    }
   ],
   "source": [
    "print('Los datos son:')\n",
    "print(dato_booleano_1,dato_booleano_2)\n",
    "print('')\n",
    "print('Los tipos de datos son:')\n",
    "print(type(dato_booleano_1),type(dato_booleano_2))"
   ]
  },
  {
   "cell_type": "code",
   "execution_count": 200,
   "metadata": {},
   "outputs": [
    {
     "name": "stdout",
     "output_type": "stream",
     "text": [
      "6\n"
     ]
    }
   ],
   "source": [
    "# Cantidad de elementos que tiene mi lista \n",
    "mi_lista = [1,2,3,'cuatro',5.05,'hola']\n",
    "\n",
    "print(len(mi_lista))\n"
   ]
  },
  {
   "cell_type": "code",
   "execution_count": null,
   "metadata": {},
   "outputs": [],
   "source": []
  }
 ],
 "metadata": {
  "kernelspec": {
   "display_name": "Python 3",
   "language": "python",
   "name": "python3"
  },
  "language_info": {
   "codemirror_mode": {
    "name": "ipython",
    "version": 3
   },
   "file_extension": ".py",
   "mimetype": "text/x-python",
   "name": "python",
   "nbconvert_exporter": "python",
   "pygments_lexer": "ipython3",
   "version": "3.12.6"
  }
 },
 "nbformat": 4,
 "nbformat_minor": 2
}
